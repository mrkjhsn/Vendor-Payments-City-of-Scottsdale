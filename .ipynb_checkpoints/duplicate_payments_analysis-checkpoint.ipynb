{
 "cells": [
  {
   "cell_type": "markdown",
   "metadata": {},
   "source": [
    "## Duplicate Payments Analysis\n",
    "\n",
    "#### Payments of the identical amount to the same vendor on the same day could be indications of duplicate payments.  As a former auditor, this was something I examined for and specifically made selections from while conducing audit testwork.  As an exercies using Python I'm interested in seeing which vendors received the largest amount of duplicate payments by the City of Scottsdale, as well as explore other ways of tweaking this analysis to identify duplicate payments.\n",
    "\n",
    "#### 1.  Does it seem reasonable that some vendors are receiving identical payments on the same day?  \n",
    "#### 2.  Are some Cost Centers or Accounts associated with higher volumes of payments that might be duplicate?  \n",
    "#### 3.  Are certain days of the week more often associated with higher volume of payments that might be duplicate?"
   ]
  },
  {
   "cell_type": "code",
   "execution_count": 58,
   "metadata": {},
   "outputs": [],
   "source": [
    "import pandas as pd\n",
    "import numpy as np\n",
    "import matplotlib.pyplot as plt\n",
    "import matplotlib.ticker\n",
    "import seaborn as sns\n",
    "pd.set_option('display.max_columns', None)"
   ]
  },
  {
   "cell_type": "code",
   "execution_count": 47,
   "metadata": {},
   "outputs": [],
   "source": [
    "vendor_payments = pd.read_csv('data/ct_VendorPayments.csv')"
   ]
  },
  {
   "cell_type": "code",
   "execution_count": 48,
   "metadata": {},
   "outputs": [
    {
     "data": {
      "text/html": [
       "<div>\n",
       "<style scoped>\n",
       "    .dataframe tbody tr th:only-of-type {\n",
       "        vertical-align: middle;\n",
       "    }\n",
       "\n",
       "    .dataframe tbody tr th {\n",
       "        vertical-align: top;\n",
       "    }\n",
       "\n",
       "    .dataframe thead th {\n",
       "        text-align: right;\n",
       "    }\n",
       "</style>\n",
       "<table border=\"1\" class=\"dataframe\">\n",
       "  <thead>\n",
       "    <tr style=\"text-align: right;\">\n",
       "      <th></th>\n",
       "      <th>PaymentDate</th>\n",
       "      <th>VendorName</th>\n",
       "      <th>PaymentAmount</th>\n",
       "      <th>Fund</th>\n",
       "      <th>FundDescription</th>\n",
       "      <th>Center</th>\n",
       "      <th>CenterName</th>\n",
       "      <th>Account</th>\n",
       "      <th>AccountName</th>\n",
       "      <th>FiscalYear</th>\n",
       "      <th>AccountingPeriod</th>\n",
       "    </tr>\n",
       "  </thead>\n",
       "  <tbody>\n",
       "    <tr>\n",
       "      <th>0</th>\n",
       "      <td>8/14/2017 0:00</td>\n",
       "      <td>A TO Z EQUIPMENT RENTAL &amp; SALES</td>\n",
       "      <td>1021.38</td>\n",
       "      <td>200</td>\n",
       "      <td>TRANSPORTATION</td>\n",
       "      <td>20860</td>\n",
       "      <td>TRAFFIC SIGNALS</td>\n",
       "      <td>53790</td>\n",
       "      <td>MAT TO MAINT &amp; REPAIR MACH, EQUIP</td>\n",
       "      <td>2018</td>\n",
       "      <td>2</td>\n",
       "    </tr>\n",
       "    <tr>\n",
       "      <th>1</th>\n",
       "      <td>8/14/2017 0:00</td>\n",
       "      <td>AIMS PVIC</td>\n",
       "      <td>380.00</td>\n",
       "      <td>100</td>\n",
       "      <td>GENERAL</td>\n",
       "      <td>25411</td>\n",
       "      <td>IRRIGATION REPAIR</td>\n",
       "      <td>52360</td>\n",
       "      <td>MAINT - MACHINERY, EQUIP &amp; AUTOS</td>\n",
       "      <td>2018</td>\n",
       "      <td>2</td>\n",
       "    </tr>\n",
       "    <tr>\n",
       "      <th>2</th>\n",
       "      <td>8/14/2017 0:00</td>\n",
       "      <td>AIMS PVIC</td>\n",
       "      <td>2125.00</td>\n",
       "      <td>200</td>\n",
       "      <td>TRANSPORTATION</td>\n",
       "      <td>20810</td>\n",
       "      <td>GRADING AND DRAINAGE</td>\n",
       "      <td>52390</td>\n",
       "      <td>MISC MAINTENANCE AND REPAIR</td>\n",
       "      <td>2018</td>\n",
       "      <td>2</td>\n",
       "    </tr>\n",
       "    <tr>\n",
       "      <th>3</th>\n",
       "      <td>8/14/2017 0:00</td>\n",
       "      <td>AIMS PVIC</td>\n",
       "      <td>15658.03</td>\n",
       "      <td>603</td>\n",
       "      <td>WATER RECLAMATION</td>\n",
       "      <td>29321</td>\n",
       "      <td>SEWER SYSTEM</td>\n",
       "      <td>52190</td>\n",
       "      <td>OTHER PROFESSIONAL SERVICES</td>\n",
       "      <td>2018</td>\n",
       "      <td>2</td>\n",
       "    </tr>\n",
       "    <tr>\n",
       "      <th>4</th>\n",
       "      <td>8/14/2017 0:00</td>\n",
       "      <td>ALL CITY TOWING</td>\n",
       "      <td>583.00</td>\n",
       "      <td>700</td>\n",
       "      <td>FLEET MANAGEMENT</td>\n",
       "      <td>20706</td>\n",
       "      <td>FLEET MANAGEMENT OPERATIONS</td>\n",
       "      <td>52360</td>\n",
       "      <td>MAINT - MACHINERY, EQUIP &amp; AUTOS</td>\n",
       "      <td>2018</td>\n",
       "      <td>2</td>\n",
       "    </tr>\n",
       "  </tbody>\n",
       "</table>\n",
       "</div>"
      ],
      "text/plain": [
       "      PaymentDate                                     VendorName  \\\n",
       "0  8/14/2017 0:00  A TO Z EQUIPMENT RENTAL & SALES                 \n",
       "1  8/14/2017 0:00  AIMS PVIC                                       \n",
       "2  8/14/2017 0:00  AIMS PVIC                                       \n",
       "3  8/14/2017 0:00  AIMS PVIC                                       \n",
       "4  8/14/2017 0:00  ALL CITY TOWING                                 \n",
       "\n",
       "   PaymentAmount  Fund    FundDescription Center  \\\n",
       "0        1021.38   200     TRANSPORTATION  20860   \n",
       "1         380.00   100            GENERAL  25411   \n",
       "2        2125.00   200     TRANSPORTATION  20810   \n",
       "3       15658.03   603  WATER RECLAMATION  29321   \n",
       "4         583.00   700   FLEET MANAGEMENT  20706   \n",
       "\n",
       "                            CenterName  Account  \\\n",
       "0  TRAFFIC SIGNALS                        53790   \n",
       "1  IRRIGATION REPAIR                      52360   \n",
       "2  GRADING AND DRAINAGE                   52390   \n",
       "3  SEWER SYSTEM                           52190   \n",
       "4  FLEET MANAGEMENT OPERATIONS            52360   \n",
       "\n",
       "                           AccountName  FiscalYear  AccountingPeriod  \n",
       "0  MAT TO MAINT & REPAIR MACH, EQUIP          2018                 2  \n",
       "1  MAINT - MACHINERY, EQUIP & AUTOS           2018                 2  \n",
       "2  MISC MAINTENANCE AND REPAIR                2018                 2  \n",
       "3  OTHER PROFESSIONAL SERVICES                2018                 2  \n",
       "4  MAINT - MACHINERY, EQUIP & AUTOS           2018                 2  "
      ]
     },
     "execution_count": 48,
     "metadata": {},
     "output_type": "execute_result"
    }
   ],
   "source": [
    "vendor_payments.head()"
   ]
  },
  {
   "cell_type": "code",
   "execution_count": 27,
   "metadata": {},
   "outputs": [
    {
     "data": {
      "text/plain": [
       "PaymentDate         datetime64[ns]\n",
       "VendorName                  object\n",
       "PaymentAmount              float64\n",
       "Fund                         int64\n",
       "FundDescription             object\n",
       "Center                      object\n",
       "CenterName                  object\n",
       "Account                      int64\n",
       "AccountName                 object\n",
       "FiscalYear                   int64\n",
       "AccountingPeriod             int64\n",
       "Concat                      object\n",
       "dtype: object"
      ]
     },
     "execution_count": 27,
     "metadata": {},
     "output_type": "execute_result"
    }
   ],
   "source": [
    "vendor_payments.dtypes"
   ]
  },
  {
   "cell_type": "code",
   "execution_count": 50,
   "metadata": {},
   "outputs": [],
   "source": [
    "# change \"payment date\" column to datetime format\n",
    "vendor_payments['PaymentDate'] = pd.to_datetime(vendor_payments['PaymentDate'])"
   ]
  },
  {
   "cell_type": "code",
   "execution_count": null,
   "metadata": {},
   "outputs": [],
   "source": []
  },
  {
   "cell_type": "code",
   "execution_count": null,
   "metadata": {},
   "outputs": [],
   "source": []
  },
  {
   "cell_type": "code",
   "execution_count": null,
   "metadata": {},
   "outputs": [],
   "source": []
  },
  {
   "cell_type": "code",
   "execution_count": 51,
   "metadata": {},
   "outputs": [],
   "source": [
    "# concatenate values to find idential payments on the same day to the same vendor\n",
    "vendor_payments['Concat'] = vendor_payments['VendorName'] + \\\n",
    "    '_' + \\\n",
    "    vendor_payments['PaymentAmount'].apply(str) + \\\n",
    "    '_' + \\\n",
    "    vendor_payments['PaymentDate'].apply(str)"
   ]
  },
  {
   "cell_type": "code",
   "execution_count": 59,
   "metadata": {},
   "outputs": [
    {
     "data": {
      "text/html": [
       "<div>\n",
       "<style scoped>\n",
       "    .dataframe tbody tr th:only-of-type {\n",
       "        vertical-align: middle;\n",
       "    }\n",
       "\n",
       "    .dataframe tbody tr th {\n",
       "        vertical-align: top;\n",
       "    }\n",
       "\n",
       "    .dataframe thead th {\n",
       "        text-align: right;\n",
       "    }\n",
       "</style>\n",
       "<table border=\"1\" class=\"dataframe\">\n",
       "  <thead>\n",
       "    <tr style=\"text-align: right;\">\n",
       "      <th></th>\n",
       "      <th>Concat</th>\n",
       "      <th>PaymentAmount</th>\n",
       "    </tr>\n",
       "  </thead>\n",
       "  <tbody>\n",
       "    <tr>\n",
       "      <th>0</th>\n",
       "      <td>SHI INTERNATIONAL CORP                       _...</td>\n",
       "      <td>8</td>\n",
       "    </tr>\n",
       "    <tr>\n",
       "      <th>1</th>\n",
       "      <td>AMERICAN PUBLIC WORKS ASSOC                  _...</td>\n",
       "      <td>7</td>\n",
       "    </tr>\n",
       "    <tr>\n",
       "      <th>2</th>\n",
       "      <td>HP INC                                       _...</td>\n",
       "      <td>7</td>\n",
       "    </tr>\n",
       "    <tr>\n",
       "      <th>3</th>\n",
       "      <td>EDUCATION &amp; TRAINING SERVICES LLC            _...</td>\n",
       "      <td>5</td>\n",
       "    </tr>\n",
       "    <tr>\n",
       "      <th>4</th>\n",
       "      <td>SERVICE ASSOCIATES                           _...</td>\n",
       "      <td>5</td>\n",
       "    </tr>\n",
       "    <tr>\n",
       "      <th>5</th>\n",
       "      <td>SERVICE ASSOCIATES                           _...</td>\n",
       "      <td>5</td>\n",
       "    </tr>\n",
       "    <tr>\n",
       "      <th>6</th>\n",
       "      <td>SOUTHWEST WATER TREATMENT LLC                _...</td>\n",
       "      <td>4</td>\n",
       "    </tr>\n",
       "    <tr>\n",
       "      <th>7</th>\n",
       "      <td>SOUTHWEST WATER TREATMENT LLC                _...</td>\n",
       "      <td>4</td>\n",
       "    </tr>\n",
       "    <tr>\n",
       "      <th>8</th>\n",
       "      <td>HP INC                                       _...</td>\n",
       "      <td>4</td>\n",
       "    </tr>\n",
       "    <tr>\n",
       "      <th>9</th>\n",
       "      <td>CDW GOVERNMENT INC                           _...</td>\n",
       "      <td>3</td>\n",
       "    </tr>\n",
       "    <tr>\n",
       "      <th>10</th>\n",
       "      <td>COX COMMUNICATIONS PHOENIX                   _...</td>\n",
       "      <td>3</td>\n",
       "    </tr>\n",
       "    <tr>\n",
       "      <th>11</th>\n",
       "      <td>SIMPLOT PARTNERS                             _...</td>\n",
       "      <td>3</td>\n",
       "    </tr>\n",
       "    <tr>\n",
       "      <th>12</th>\n",
       "      <td>ARIZONA DEPARTMENT OF PUBLIC SAFETY          _...</td>\n",
       "      <td>3</td>\n",
       "    </tr>\n",
       "    <tr>\n",
       "      <th>13</th>\n",
       "      <td>ANTON SPORT                                  _...</td>\n",
       "      <td>3</td>\n",
       "    </tr>\n",
       "    <tr>\n",
       "      <th>14</th>\n",
       "      <td>SHI INTERNATIONAL CORP                       _...</td>\n",
       "      <td>3</td>\n",
       "    </tr>\n",
       "  </tbody>\n",
       "</table>\n",
       "</div>"
      ],
      "text/plain": [
       "                                               Concat  PaymentAmount\n",
       "0   SHI INTERNATIONAL CORP                       _...              8\n",
       "1   AMERICAN PUBLIC WORKS ASSOC                  _...              7\n",
       "2   HP INC                                       _...              7\n",
       "3   EDUCATION & TRAINING SERVICES LLC            _...              5\n",
       "4   SERVICE ASSOCIATES                           _...              5\n",
       "5   SERVICE ASSOCIATES                           _...              5\n",
       "6   SOUTHWEST WATER TREATMENT LLC                _...              4\n",
       "7   SOUTHWEST WATER TREATMENT LLC                _...              4\n",
       "8   HP INC                                       _...              4\n",
       "9   CDW GOVERNMENT INC                           _...              3\n",
       "10  COX COMMUNICATIONS PHOENIX                   _...              3\n",
       "11  SIMPLOT PARTNERS                             _...              3\n",
       "12  ARIZONA DEPARTMENT OF PUBLIC SAFETY          _...              3\n",
       "13  ANTON SPORT                                  _...              3\n",
       "14  SHI INTERNATIONAL CORP                       _...              3"
      ]
     },
     "execution_count": 59,
     "metadata": {},
     "output_type": "execute_result"
    }
   ],
   "source": [
    "vendor_payments \\\n",
    "    .groupby(['Concat'])['PaymentAmount'] \\\n",
    "    .count() \\\n",
    "    .sort_values(ascending=False) \\\n",
    "    .reset_index() \\\n",
    "    .head(15)"
   ]
  },
  {
   "cell_type": "code",
   "execution_count": null,
   "metadata": {},
   "outputs": [],
   "source": []
  },
  {
   "cell_type": "code",
   "execution_count": null,
   "metadata": {},
   "outputs": [],
   "source": []
  },
  {
   "cell_type": "code",
   "execution_count": null,
   "metadata": {},
   "outputs": [],
   "source": []
  },
  {
   "cell_type": "code",
   "execution_count": null,
   "metadata": {},
   "outputs": [],
   "source": []
  },
  {
   "cell_type": "code",
   "execution_count": null,
   "metadata": {},
   "outputs": [],
   "source": []
  },
  {
   "cell_type": "code",
   "execution_count": null,
   "metadata": {},
   "outputs": [],
   "source": []
  },
  {
   "cell_type": "code",
   "execution_count": null,
   "metadata": {},
   "outputs": [],
   "source": []
  },
  {
   "cell_type": "code",
   "execution_count": null,
   "metadata": {},
   "outputs": [],
   "source": []
  },
  {
   "cell_type": "code",
   "execution_count": null,
   "metadata": {},
   "outputs": [],
   "source": []
  },
  {
   "cell_type": "code",
   "execution_count": 70,
   "metadata": {},
   "outputs": [
    {
     "data": {
      "text/html": [
       "<div>\n",
       "<style scoped>\n",
       "    .dataframe tbody tr th:only-of-type {\n",
       "        vertical-align: middle;\n",
       "    }\n",
       "\n",
       "    .dataframe tbody tr th {\n",
       "        vertical-align: top;\n",
       "    }\n",
       "\n",
       "    .dataframe thead th {\n",
       "        text-align: right;\n",
       "    }\n",
       "</style>\n",
       "<table border=\"1\" class=\"dataframe\">\n",
       "  <thead>\n",
       "    <tr style=\"text-align: right;\">\n",
       "      <th></th>\n",
       "      <th>Concat</th>\n",
       "      <th>PaymentAmount_x</th>\n",
       "      <th>PaymentDate</th>\n",
       "      <th>VendorName</th>\n",
       "      <th>PaymentAmount_y</th>\n",
       "      <th>Fund</th>\n",
       "      <th>FundDescription</th>\n",
       "      <th>Center</th>\n",
       "      <th>CenterName</th>\n",
       "      <th>Account</th>\n",
       "      <th>AccountName</th>\n",
       "      <th>FiscalYear</th>\n",
       "      <th>AccountingPeriod</th>\n",
       "    </tr>\n",
       "  </thead>\n",
       "  <tbody>\n",
       "    <tr>\n",
       "      <th>0</th>\n",
       "      <td>SHI INTERNATIONAL CORP                       8...</td>\n",
       "      <td>8</td>\n",
       "      <td>8/29/2017 0:00</td>\n",
       "      <td>SHI INTERNATIONAL CORP</td>\n",
       "      <td>822.58</td>\n",
       "      <td>100</td>\n",
       "      <td>GENERAL</td>\n",
       "      <td>20600</td>\n",
       "      <td>CAPITAL PROJECT MANAGEMENT</td>\n",
       "      <td>52350</td>\n",
       "      <td>SOFTWARE MAINT &amp; LICENSING</td>\n",
       "      <td>2018</td>\n",
       "      <td>2</td>\n",
       "    </tr>\n",
       "    <tr>\n",
       "      <th>1</th>\n",
       "      <td>SHI INTERNATIONAL CORP                       8...</td>\n",
       "      <td>8</td>\n",
       "      <td>8/29/2017 0:00</td>\n",
       "      <td>SHI INTERNATIONAL CORP</td>\n",
       "      <td>822.58</td>\n",
       "      <td>100</td>\n",
       "      <td>GENERAL</td>\n",
       "      <td>21400</td>\n",
       "      <td>ECONOMIC DEVELOPMENT ADMINISTRATION</td>\n",
       "      <td>52350</td>\n",
       "      <td>SOFTWARE MAINT &amp; LICENSING</td>\n",
       "      <td>2018</td>\n",
       "      <td>2</td>\n",
       "    </tr>\n",
       "    <tr>\n",
       "      <th>2</th>\n",
       "      <td>SHI INTERNATIONAL CORP                       8...</td>\n",
       "      <td>8</td>\n",
       "      <td>8/29/2017 0:00</td>\n",
       "      <td>SHI INTERNATIONAL CORP</td>\n",
       "      <td>822.58</td>\n",
       "      <td>100</td>\n",
       "      <td>GENERAL</td>\n",
       "      <td>25304</td>\n",
       "      <td>GRANITE REEF SENIOR CENTER</td>\n",
       "      <td>52350</td>\n",
       "      <td>SOFTWARE MAINT &amp; LICENSING</td>\n",
       "      <td>2018</td>\n",
       "      <td>2</td>\n",
       "    </tr>\n",
       "    <tr>\n",
       "      <th>3</th>\n",
       "      <td>SHI INTERNATIONAL CORP                       8...</td>\n",
       "      <td>8</td>\n",
       "      <td>8/29/2017 0:00</td>\n",
       "      <td>SHI INTERNATIONAL CORP</td>\n",
       "      <td>822.58</td>\n",
       "      <td>100</td>\n",
       "      <td>GENERAL</td>\n",
       "      <td>27300</td>\n",
       "      <td>OFFICE OF COMMUNICATIONS</td>\n",
       "      <td>52350</td>\n",
       "      <td>SOFTWARE MAINT &amp; LICENSING</td>\n",
       "      <td>2018</td>\n",
       "      <td>2</td>\n",
       "    </tr>\n",
       "    <tr>\n",
       "      <th>4</th>\n",
       "      <td>SHI INTERNATIONAL CORP                       8...</td>\n",
       "      <td>8</td>\n",
       "      <td>8/29/2017 0:00</td>\n",
       "      <td>SHI INTERNATIONAL CORP</td>\n",
       "      <td>822.58</td>\n",
       "      <td>100</td>\n",
       "      <td>GENERAL</td>\n",
       "      <td>27505</td>\n",
       "      <td>HELP DESK/DESKTOP TECHNICAL SUPPORT</td>\n",
       "      <td>52350</td>\n",
       "      <td>SOFTWARE MAINT &amp; LICENSING</td>\n",
       "      <td>2018</td>\n",
       "      <td>2</td>\n",
       "    </tr>\n",
       "  </tbody>\n",
       "</table>\n",
       "</div>"
      ],
      "text/plain": [
       "                                              Concat  PaymentAmount_x  \\\n",
       "0  SHI INTERNATIONAL CORP                       8...                8   \n",
       "1  SHI INTERNATIONAL CORP                       8...                8   \n",
       "2  SHI INTERNATIONAL CORP                       8...                8   \n",
       "3  SHI INTERNATIONAL CORP                       8...                8   \n",
       "4  SHI INTERNATIONAL CORP                       8...                8   \n",
       "\n",
       "      PaymentDate                                     VendorName  \\\n",
       "0  8/29/2017 0:00  SHI INTERNATIONAL CORP                          \n",
       "1  8/29/2017 0:00  SHI INTERNATIONAL CORP                          \n",
       "2  8/29/2017 0:00  SHI INTERNATIONAL CORP                          \n",
       "3  8/29/2017 0:00  SHI INTERNATIONAL CORP                          \n",
       "4  8/29/2017 0:00  SHI INTERNATIONAL CORP                          \n",
       "\n",
       "   PaymentAmount_y  Fund FundDescription Center  \\\n",
       "0           822.58   100         GENERAL  20600   \n",
       "1           822.58   100         GENERAL  21400   \n",
       "2           822.58   100         GENERAL  25304   \n",
       "3           822.58   100         GENERAL  27300   \n",
       "4           822.58   100         GENERAL  27505   \n",
       "\n",
       "                            CenterName  Account  \\\n",
       "0  CAPITAL PROJECT MANAGEMENT             52350   \n",
       "1  ECONOMIC DEVELOPMENT ADMINISTRATION    52350   \n",
       "2  GRANITE REEF SENIOR CENTER             52350   \n",
       "3  OFFICE OF COMMUNICATIONS               52350   \n",
       "4  HELP DESK/DESKTOP TECHNICAL SUPPORT    52350   \n",
       "\n",
       "                           AccountName  FiscalYear  AccountingPeriod  \n",
       "0  SOFTWARE MAINT & LICENSING                 2018                 2  \n",
       "1  SOFTWARE MAINT & LICENSING                 2018                 2  \n",
       "2  SOFTWARE MAINT & LICENSING                 2018                 2  \n",
       "3  SOFTWARE MAINT & LICENSING                 2018                 2  \n",
       "4  SOFTWARE MAINT & LICENSING                 2018                 2  "
      ]
     },
     "execution_count": 70,
     "metadata": {},
     "output_type": "execute_result"
    }
   ],
   "source": [
    "top_dup_payments = pd.merge(x, vendor_payments, on='Concat')\n",
    "top_dup_payments.head()"
   ]
  },
  {
   "cell_type": "code",
   "execution_count": 89,
   "metadata": {},
   "outputs": [
    {
     "data": {
      "text/plain": [
       "(array([17.,  0.,  0.,  0., 11.,  0.,  0.,  9.,  7.,  8.]),\n",
       " array([ 1. ,  2.1,  3.2,  4.3,  5.4,  6.5,  7.6,  8.7,  9.8, 10.9, 12. ]),\n",
       " <a list of 10 Patch objects>)"
      ]
     },
     "execution_count": 89,
     "metadata": {},
     "output_type": "execute_result"
    },
    {
     "data": {
      "image/png": "[encoded data removed]",
      "text/plain": [
       "<Figure size 432x288 with 1 Axes>"
      ]
     },
     "metadata": {
      "needs_background": "light"
     },
     "output_type": "display_data"
    }
   ],
   "source": [
    "# fig = plt.figure(figsize=(5, 3))\n",
    "plt.hist(top_dup_payments['AccountingPeriod'])"
   ]
  },
  {
   "cell_type": "code",
   "execution_count": 90,
   "metadata": {},
   "outputs": [
    {
     "data": {
      "text/plain": [
       "(array([26.,  0.,  7.,  8.,  0.,  0.,  0.,  0.,  0., 11.]),\n",
       " array([52245. , 52472.7, 52700.4, 52928.1, 53155.8, 53383.5, 53611.2,\n",
       "        53838.9, 54066.6, 54294.3, 54522. ]),\n",
       " <a list of 10 Patch objects>)"
      ]
     },
     "execution_count": 90,
     "metadata": {},
     "output_type": "execute_result"
    },
    {
     "data": {
      "image/png": "[encoded data removed]",
      "text/plain": [
       "<Figure size 432x288 with 1 Axes>"
      ]
     },
     "metadata": {
      "needs_background": "light"
     },
     "output_type": "display_data"
    }
   ],
   "source": [
    "plt.hist(top_dup_payments['Account'])"
   ]
  }
 ],
 "metadata": {
  "kernelspec": {
   "display_name": "Python 3",
   "language": "python",
   "name": "python3"
  },
  "language_info": {
   "codemirror_mode": {
    "name": "ipython",
    "version": 3
   },
   "file_extension": ".py",
   "mimetype": "text/x-python",
   "name": "python",
   "nbconvert_exporter": "python",
   "pygments_lexer": "ipython3",
   "version": "3.7.1"
  }
 },
 "nbformat": 4,
 "nbformat_minor": 2
}
