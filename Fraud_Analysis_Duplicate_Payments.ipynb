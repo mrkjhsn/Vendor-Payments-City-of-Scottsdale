{
 "cells": [
  {
   "cell_type": "markdown",
   "metadata": {},
   "source": [
    "## Duplicate Payments Analysis\n",
    "\n",
    "#### Payments of the identical amount to the same vendor on the same day could be indications of duplicate payments.  As a former auditor, this was something I examined for and specifically made selections from while conducing audit testwork.  I'm interested in seeing which vendors received the larges amount of duplicate payments by the City of Scottsdale. "
   ]
  },
  {
   "cell_type": "code",
   "execution_count": 1,
   "metadata": {},
   "outputs": [],
   "source": [
    "import pandas as pd\n",
    "import numpy as np\n",
    "import matplotlib.pyplot as plt\n",
    "import matplotlib.ticker\n",
    "import seaborn as sns\n",
    "\n",
    "vendor_payments = pd.read_csv('ct_VendorPayments.csv')"
   ]
  },
  {
   "cell_type": "code",
   "execution_count": 2,
   "metadata": {},
   "outputs": [
    {
     "data": {
      "text/html": [
       "<div>\n",
       "<style scoped>\n",
       "    .dataframe tbody tr th:only-of-type {\n",
       "        vertical-align: middle;\n",
       "    }\n",
       "\n",
       "    .dataframe tbody tr th {\n",
       "        vertical-align: top;\n",
       "    }\n",
       "\n",
       "    .dataframe thead th {\n",
       "        text-align: right;\n",
       "    }\n",
       "</style>\n",
       "<table border=\"1\" class=\"dataframe\">\n",
       "  <thead>\n",
       "    <tr style=\"text-align: right;\">\n",
       "      <th></th>\n",
       "      <th>PaymentDate</th>\n",
       "      <th>VendorName</th>\n",
       "      <th>PaymentAmount</th>\n",
       "      <th>Fund</th>\n",
       "      <th>FundDescription</th>\n",
       "      <th>Center</th>\n",
       "      <th>CenterName</th>\n",
       "      <th>Account</th>\n",
       "      <th>AccountName</th>\n",
       "      <th>FiscalYear</th>\n",
       "      <th>AccountingPeriod</th>\n",
       "    </tr>\n",
       "  </thead>\n",
       "  <tbody>\n",
       "    <tr>\n",
       "      <th>0</th>\n",
       "      <td>8/14/2017 0:00</td>\n",
       "      <td>A TO Z EQUIPMENT RENTAL &amp; SALES</td>\n",
       "      <td>1021.38</td>\n",
       "      <td>200</td>\n",
       "      <td>TRANSPORTATION</td>\n",
       "      <td>20860</td>\n",
       "      <td>TRAFFIC SIGNALS</td>\n",
       "      <td>53790</td>\n",
       "      <td>MAT TO MAINT &amp; REPAIR MACH, EQUIP</td>\n",
       "      <td>2018</td>\n",
       "      <td>2</td>\n",
       "    </tr>\n",
       "    <tr>\n",
       "      <th>1</th>\n",
       "      <td>8/14/2017 0:00</td>\n",
       "      <td>AIMS PVIC</td>\n",
       "      <td>380.00</td>\n",
       "      <td>100</td>\n",
       "      <td>GENERAL</td>\n",
       "      <td>25411</td>\n",
       "      <td>IRRIGATION REPAIR</td>\n",
       "      <td>52360</td>\n",
       "      <td>MAINT - MACHINERY, EQUIP &amp; AUTOS</td>\n",
       "      <td>2018</td>\n",
       "      <td>2</td>\n",
       "    </tr>\n",
       "    <tr>\n",
       "      <th>2</th>\n",
       "      <td>8/14/2017 0:00</td>\n",
       "      <td>AIMS PVIC</td>\n",
       "      <td>2125.00</td>\n",
       "      <td>200</td>\n",
       "      <td>TRANSPORTATION</td>\n",
       "      <td>20810</td>\n",
       "      <td>GRADING AND DRAINAGE</td>\n",
       "      <td>52390</td>\n",
       "      <td>MISC MAINTENANCE AND REPAIR</td>\n",
       "      <td>2018</td>\n",
       "      <td>2</td>\n",
       "    </tr>\n",
       "    <tr>\n",
       "      <th>3</th>\n",
       "      <td>8/14/2017 0:00</td>\n",
       "      <td>AIMS PVIC</td>\n",
       "      <td>15658.03</td>\n",
       "      <td>603</td>\n",
       "      <td>WATER RECLAMATION</td>\n",
       "      <td>29321</td>\n",
       "      <td>SEWER SYSTEM</td>\n",
       "      <td>52190</td>\n",
       "      <td>OTHER PROFESSIONAL SERVICES</td>\n",
       "      <td>2018</td>\n",
       "      <td>2</td>\n",
       "    </tr>\n",
       "    <tr>\n",
       "      <th>4</th>\n",
       "      <td>8/14/2017 0:00</td>\n",
       "      <td>ALL CITY TOWING</td>\n",
       "      <td>583.00</td>\n",
       "      <td>700</td>\n",
       "      <td>FLEET MANAGEMENT</td>\n",
       "      <td>20706</td>\n",
       "      <td>FLEET MANAGEMENT OPERATIONS</td>\n",
       "      <td>52360</td>\n",
       "      <td>MAINT - MACHINERY, EQUIP &amp; AUTOS</td>\n",
       "      <td>2018</td>\n",
       "      <td>2</td>\n",
       "    </tr>\n",
       "  </tbody>\n",
       "</table>\n",
       "</div>"
      ],
      "text/plain": [
       "      PaymentDate                                     VendorName  \\\n",
       "0  8/14/2017 0:00  A TO Z EQUIPMENT RENTAL & SALES                 \n",
       "1  8/14/2017 0:00  AIMS PVIC                                       \n",
       "2  8/14/2017 0:00  AIMS PVIC                                       \n",
       "3  8/14/2017 0:00  AIMS PVIC                                       \n",
       "4  8/14/2017 0:00  ALL CITY TOWING                                 \n",
       "\n",
       "   PaymentAmount  Fund    FundDescription Center  \\\n",
       "0        1021.38   200     TRANSPORTATION  20860   \n",
       "1         380.00   100            GENERAL  25411   \n",
       "2        2125.00   200     TRANSPORTATION  20810   \n",
       "3       15658.03   603  WATER RECLAMATION  29321   \n",
       "4         583.00   700   FLEET MANAGEMENT  20706   \n",
       "\n",
       "                            CenterName  Account  \\\n",
       "0  TRAFFIC SIGNALS                        53790   \n",
       "1  IRRIGATION REPAIR                      52360   \n",
       "2  GRADING AND DRAINAGE                   52390   \n",
       "3  SEWER SYSTEM                           52190   \n",
       "4  FLEET MANAGEMENT OPERATIONS            52360   \n",
       "\n",
       "                           AccountName  FiscalYear  AccountingPeriod  \n",
       "0  MAT TO MAINT & REPAIR MACH, EQUIP          2018                 2  \n",
       "1  MAINT - MACHINERY, EQUIP & AUTOS           2018                 2  \n",
       "2  MISC MAINTENANCE AND REPAIR                2018                 2  \n",
       "3  OTHER PROFESSIONAL SERVICES                2018                 2  \n",
       "4  MAINT - MACHINERY, EQUIP & AUTOS           2018                 2  "
      ]
     },
     "execution_count": 2,
     "metadata": {},
     "output_type": "execute_result"
    }
   ],
   "source": [
    "vendor_payments.head()"
   ]
  },
  {
   "cell_type": "code",
   "execution_count": 3,
   "metadata": {},
   "outputs": [
    {
     "data": {
      "text/plain": [
       "PaymentDate          object\n",
       "VendorName           object\n",
       "PaymentAmount       float64\n",
       "Fund                  int64\n",
       "FundDescription      object\n",
       "Center               object\n",
       "CenterName           object\n",
       "Account               int64\n",
       "AccountName          object\n",
       "FiscalYear            int64\n",
       "AccountingPeriod      int64\n",
       "dtype: object"
      ]
     },
     "execution_count": 3,
     "metadata": {},
     "output_type": "execute_result"
    }
   ],
   "source": [
    "vendor_payments.dtypes"
   ]
  },
  {
   "cell_type": "code",
   "execution_count": null,
   "metadata": {},
   "outputs": [],
   "source": []
  },
  {
   "cell_type": "code",
   "execution_count": 13,
   "metadata": {},
   "outputs": [],
   "source": [
    "# concatenate values to find idential payments on the same day to the same vendor\n",
    "vendor_payments['Concat'] = vendor_payments['VendorName'] + vendor_payments['PaymentAmount'].map(str) + vendor_payments['PaymentDate']"
   ]
  },
  {
   "cell_type": "code",
   "execution_count": 19,
   "metadata": {},
   "outputs": [
    {
     "data": {
      "text/plain": [
       "Concat\n",
       "SHI INTERNATIONAL CORP                       822.588/29/2017 0:00     8\n",
       "HP INC                                       426.064/18/2018 0:00     7\n",
       "AMERICAN PUBLIC WORKS ASSOC                  170.2512/20/2017 0:00    7\n",
       "SERVICE ASSOCIATES                           64.653/12/2018 0:00      5\n",
       "SERVICE ASSOCIATES                           24.996/14/2018 0:00      5\n",
       "EDUCATION & TRAINING SERVICES LLC            499.07/19/2018 0:00      5\n",
       "SOUTHWEST WATER TREATMENT LLC                367.53/9/2018 0:00       4\n",
       "SOUTHWEST WATER TREATMENT LLC                367.58/18/2017 0:00      4\n",
       "HP INC                                       1513.8612/4/2017 0:00    4\n",
       "SHI INTERNATIONAL CORP                       105.795/4/2018 0:00      3\n",
       "ARIZONA DEPARTMENT OF PUBLIC SAFETY          22.010/20/2017 0:00      3\n",
       "SOUTHWEST WATER TREATMENT LLC                367.511/14/2017 0:00     3\n",
       "SIMPLOT PARTNERS                             938.854/23/2018 0:00     3\n",
       "ARIZONA DEPARTMENT OF PUBLIC SAFETY          22.07/17/2018 0:00       3\n",
       "ARIZONA DEPARTMENT OF PUBLIC SAFETY          44.04/4/2018 0:00        3\n",
       "ANTON SPORT                                  714.771/31/2018 0:00     3\n",
       "CDW GOVERNMENT INC                           767.285/18/2018 0:00     3\n",
       "SHI INTERNATIONAL CORP                       1645.168/29/2017 0:00    3\n",
       "EAST VALLEY NAACP                            400.09/11/2017 0:00      3\n",
       "COX COMMUNICATIONS PHOENIX                   69.02/5/2018 0:00        3\n",
       "Name: Concat, dtype: int64"
      ]
     },
     "execution_count": 19,
     "metadata": {},
     "output_type": "execute_result"
    }
   ],
   "source": [
    "vendor_payments \\\n",
    "    .groupby(['Concat'])['Concat'] \\\n",
    "    .count() \\\n",
    "    .sort_values(ascending=False) \\\n",
    "    .head(20)"
   ]
  }
 ],
 "metadata": {
  "kernelspec": {
   "display_name": "Python 3",
   "language": "python",
   "name": "python3"
  },
  "language_info": {
   "codemirror_mode": {
    "name": "ipython",
    "version": 3
   },
   "file_extension": ".py",
   "mimetype": "text/x-python",
   "name": "python",
   "nbconvert_exporter": "python",
   "pygments_lexer": "ipython3",
   "version": "3.7.1"
  }
 },
 "nbformat": 4,
 "nbformat_minor": 2
}
